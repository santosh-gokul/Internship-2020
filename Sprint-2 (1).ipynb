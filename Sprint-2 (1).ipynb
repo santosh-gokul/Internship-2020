{
 "cells": [
  {
   "cell_type": "code",
   "execution_count": 22,
   "metadata": {},
   "outputs": [],
   "source": [
    "import numpy as np\n",
    "import pandas as pd\n",
    "from sklearn.model_selection import GroupKFold\n",
    "#https://github.com/scikit-learn/scikit-learn/blob/master/sklearn/model_selection/_split.py#L65"
   ]
  },
  {
   "cell_type": "code",
   "execution_count": 59,
   "metadata": {},
   "outputs": [
    {
     "data": {
      "text/html": [
       "<div>\n",
       "<style scoped>\n",
       "    .dataframe tbody tr th:only-of-type {\n",
       "        vertical-align: middle;\n",
       "    }\n",
       "\n",
       "    .dataframe tbody tr th {\n",
       "        vertical-align: top;\n",
       "    }\n",
       "\n",
       "    .dataframe thead th {\n",
       "        text-align: right;\n",
       "    }\n",
       "</style>\n",
       "<table border=\"1\" class=\"dataframe\">\n",
       "  <thead>\n",
       "    <tr style=\"text-align: right;\">\n",
       "      <th></th>\n",
       "      <th>W</th>\n",
       "      <th>D</th>\n",
       "      <th>G</th>\n",
       "    </tr>\n",
       "  </thead>\n",
       "  <tbody>\n",
       "    <tr>\n",
       "      <td>0</td>\n",
       "      <td>EA-01</td>\n",
       "      <td>1000.0</td>\n",
       "      <td>47.1</td>\n",
       "    </tr>\n",
       "    <tr>\n",
       "      <td>1</td>\n",
       "      <td>EA-02</td>\n",
       "      <td>1000.5</td>\n",
       "      <td>45.3</td>\n",
       "    </tr>\n",
       "    <tr>\n",
       "      <td>2</td>\n",
       "      <td>EA-03</td>\n",
       "      <td>1001.0</td>\n",
       "      <td>45.7</td>\n",
       "    </tr>\n",
       "    <tr>\n",
       "      <td>3</td>\n",
       "      <td>EA-04</td>\n",
       "      <td>1001.5</td>\n",
       "      <td>67.6</td>\n",
       "    </tr>\n",
       "    <tr>\n",
       "      <td>4</td>\n",
       "      <td>EA-05</td>\n",
       "      <td>1002.0</td>\n",
       "      <td>87.5</td>\n",
       "    </tr>\n",
       "  </tbody>\n",
       "</table>\n",
       "</div>"
      ],
      "text/plain": [
       "       W       D     G\n",
       "0  EA-01  1000.0  47.1\n",
       "1  EA-02  1000.5  45.3\n",
       "2  EA-03  1001.0  45.7\n",
       "3  EA-04  1001.5  67.6\n",
       "4  EA-05  1002.0  87.5"
      ]
     },
     "execution_count": 59,
     "metadata": {},
     "output_type": "execute_result"
    }
   ],
   "source": [
    "#Variable definitions...\n",
    "n_splits = 5 \n",
    "data = pd.DataFrame({'W':['EA-01','EA-02','EA-03','EA-04','EA-05'],'D':[1000,1000.5,1001,1001.5,1002],'G':[47.1,45.3,45.7,67.6,87.5]})\n",
    "data"
   ]
  },
  {
   "cell_type": "code",
   "execution_count": 66,
   "metadata": {},
   "outputs": [
    {
     "data": {
      "text/plain": [
       "array([0, 1, 3, 2], dtype=int64)"
      ]
     },
     "execution_count": 66,
     "metadata": {},
     "output_type": "execute_result"
    }
   ],
   "source": [
    "#Rough Work...\n",
    "np.argsort([1,0,2,1])"
   ]
  },
  {
   "cell_type": "code",
   "execution_count": 64,
   "metadata": {},
   "outputs": [],
   "source": [
    "def gkf_split(n_splits,groups):\n",
    "    unique_grps, groups = np.unique(groups,return_inverse=True)\n",
    "    num_groups = len(unique_grps)\n",
    "    cv = []\n",
    "    \n",
    "    if(n_splits>num_groups):\n",
    "        raise ValueError(\"Error..\")\n",
    "    \n",
    "    n_samples_per_group = np.bincount(groups)\n",
    "    indices = np.argsort(n_samples_per_group)[::-1] #Reverse of the indices..\n",
    "    print(indices)\n",
    "    n_samples_per_group = n_samples_per_group[indices] #values sorted in desc..\n",
    "    \n",
    "    n_samples_per_fold = np.zeros(n_splits) #Create 0's array of specified length.\n",
    "    group_to_fold = np.zeros(num_groups) #Similarly here..\n",
    "    \n",
    "    for it, weight in enumerate(n_samples_per_group):\n",
    "        lightest_fold = np.argmin(n_samples_per_fold)\n",
    "        n_samples_per_fold[lightest_fold]+=weight\n",
    "        group_to_fold[indices[it]] = lightest_fold\n",
    "    \n",
    "    which_grp_belong_to_which_fold = group_to_fold[groups]\n",
    "    indices_train_test_split = np.arange(len(groups))\n",
    "    \n",
    "    for i in range(n_splits):\n",
    "        test_indices = np.where(which_grp_belong_to_which_fold==i)[0]\n",
    "        test_mask = np.zeros(len(groups), dtype=np.bool)\n",
    "        test_mask[test_indices] = True\n",
    "        train_indices = indices_train_test_split[np.logical_not(test_mask)]\n",
    "        cv.append((train_indices,test_indices))\n",
    "    return(cv)"
   ]
  },
  {
   "cell_type": "code",
   "execution_count": 44,
   "metadata": {},
   "outputs": [],
   "source": [
    "class cv:\n",
    "    def __init__(self,n_splits):\n",
    "        self.n_splits = n_splits\n",
    "        if(self.n_splits<=1):\n",
    "            raise ValueError(\"Error..\")\n",
    "    def split(self,groups):\n",
    "        train_test_splits_well = gkf_split(self.n_splits,groups)\n",
    "        return(train_test_splits_well)"
   ]
  },
  {
   "cell_type": "code",
   "execution_count": 73,
   "metadata": {},
   "outputs": [
    {
     "ename": "ValueError",
     "evalue": "Error..",
     "output_type": "error",
     "traceback": [
      "\u001b[1;31m---------------------------------------------------------------------------\u001b[0m",
      "\u001b[1;31mValueError\u001b[0m                                Traceback (most recent call last)",
      "\u001b[1;32m<ipython-input-73-608e5b59b3eb>\u001b[0m in \u001b[0;36m<module>\u001b[1;34m\u001b[0m\n\u001b[0;32m      2\u001b[0m \u001b[0mwn\u001b[0m \u001b[1;33m=\u001b[0m \u001b[0mdata\u001b[0m\u001b[1;33m[\u001b[0m\u001b[1;34m'W'\u001b[0m\u001b[1;33m]\u001b[0m\u001b[1;33m\u001b[0m\u001b[1;33m\u001b[0m\u001b[0m\n\u001b[0;32m      3\u001b[0m \u001b[0mgroups\u001b[0m \u001b[1;33m=\u001b[0m \u001b[1;33m[\u001b[0m\u001b[1;36m0\u001b[0m\u001b[1;33m,\u001b[0m\u001b[1;36m1\u001b[0m\u001b[1;33m,\u001b[0m\u001b[1;36m2\u001b[0m\u001b[1;33m,\u001b[0m\u001b[1;36m3\u001b[0m\u001b[1;33m,\u001b[0m\u001b[1;36m4\u001b[0m\u001b[1;33m]\u001b[0m\u001b[1;33m\u001b[0m\u001b[1;33m\u001b[0m\u001b[0m\n\u001b[1;32m----> 4\u001b[1;33m \u001b[0mprint\u001b[0m\u001b[1;33m(\u001b[0m\u001b[0mcv_obj\u001b[0m\u001b[1;33m.\u001b[0m\u001b[0msplit\u001b[0m\u001b[1;33m(\u001b[0m\u001b[0mgroups\u001b[0m\u001b[1;33m)\u001b[0m\u001b[1;33m)\u001b[0m\u001b[1;33m\u001b[0m\u001b[1;33m\u001b[0m\u001b[0m\n\u001b[0m",
      "\u001b[1;32m<ipython-input-44-82138fe5ecfc>\u001b[0m in \u001b[0;36msplit\u001b[1;34m(self, groups)\u001b[0m\n\u001b[0;32m      5\u001b[0m         \u001b[1;32mif\u001b[0m\u001b[1;33m(\u001b[0m\u001b[0mself\u001b[0m\u001b[1;33m.\u001b[0m\u001b[0mn_splits\u001b[0m\u001b[1;33m<=\u001b[0m\u001b[1;36m1\u001b[0m\u001b[1;33m)\u001b[0m\u001b[1;33m:\u001b[0m\u001b[1;33m\u001b[0m\u001b[1;33m\u001b[0m\u001b[0m\n\u001b[0;32m      6\u001b[0m             \u001b[1;32mraise\u001b[0m \u001b[0mValueError\u001b[0m\u001b[1;33m(\u001b[0m\u001b[1;34m\"Error..\"\u001b[0m\u001b[1;33m)\u001b[0m\u001b[1;33m\u001b[0m\u001b[1;33m\u001b[0m\u001b[0m\n\u001b[1;32m----> 7\u001b[1;33m         \u001b[0mtrain_test_splits_well\u001b[0m \u001b[1;33m=\u001b[0m \u001b[0mgkf_split\u001b[0m\u001b[1;33m(\u001b[0m\u001b[0mself\u001b[0m\u001b[1;33m.\u001b[0m\u001b[0mn_splits\u001b[0m\u001b[1;33m,\u001b[0m\u001b[0mgroups\u001b[0m\u001b[1;33m)\u001b[0m\u001b[1;33m\u001b[0m\u001b[1;33m\u001b[0m\u001b[0m\n\u001b[0m\u001b[0;32m      8\u001b[0m         \u001b[1;32mreturn\u001b[0m\u001b[1;33m(\u001b[0m\u001b[0mtrain_test_splits_well\u001b[0m\u001b[1;33m)\u001b[0m\u001b[1;33m\u001b[0m\u001b[1;33m\u001b[0m\u001b[0m\n",
      "\u001b[1;32m<ipython-input-64-0222ae769b00>\u001b[0m in \u001b[0;36mgkf_split\u001b[1;34m(n_splits, groups)\u001b[0m\n\u001b[0;32m      5\u001b[0m \u001b[1;33m\u001b[0m\u001b[0m\n\u001b[0;32m      6\u001b[0m     \u001b[1;32mif\u001b[0m\u001b[1;33m(\u001b[0m\u001b[0mn_splits\u001b[0m\u001b[1;33m>\u001b[0m\u001b[0mnum_groups\u001b[0m\u001b[1;33m)\u001b[0m\u001b[1;33m:\u001b[0m\u001b[1;33m\u001b[0m\u001b[1;33m\u001b[0m\u001b[0m\n\u001b[1;32m----> 7\u001b[1;33m         \u001b[1;32mraise\u001b[0m \u001b[0mValueError\u001b[0m\u001b[1;33m(\u001b[0m\u001b[1;34m\"Error..\"\u001b[0m\u001b[1;33m)\u001b[0m\u001b[1;33m\u001b[0m\u001b[1;33m\u001b[0m\u001b[0m\n\u001b[0m\u001b[0;32m      8\u001b[0m \u001b[1;33m\u001b[0m\u001b[0m\n\u001b[0;32m      9\u001b[0m     \u001b[0mn_samples_per_group\u001b[0m \u001b[1;33m=\u001b[0m \u001b[0mnp\u001b[0m\u001b[1;33m.\u001b[0m\u001b[0mbincount\u001b[0m\u001b[1;33m(\u001b[0m\u001b[0mgroups\u001b[0m\u001b[1;33m)\u001b[0m\u001b[1;33m\u001b[0m\u001b[1;33m\u001b[0m\u001b[0m\n",
      "\u001b[1;31mValueError\u001b[0m: Error.."
     ]
    }
   ],
   "source": [
    "cv_obj = cv(6)\n",
    "wn = data['W']\n",
    "groups = [0,1,2,3,4]\n",
    "print(cv_obj.split(groups))"
   ]
  },
  {
   "cell_type": "code",
   "execution_count": 57,
   "metadata": {},
   "outputs": [
    {
     "name": "stdout",
     "output_type": "stream",
     "text": [
      "TRAIN: [0 2 3] TEST: [1 4]\n",
      "TRAIN: [1 2 4] TEST: [0 3]\n",
      "TRAIN: [0 1 3 4] TEST: [2]\n"
     ]
    }
   ],
   "source": [
    "group_kfold = GroupKFold(n_splits=3)\n",
    "for train_index, test_index in group_kfold.split(data.iloc[:,:-1], data['Gamma'], [0,1,2,3,4]):\n",
    "    print(\"TRAIN:\", train_index, \"TEST:\", test_index)"
   ]
  },
  {
   "cell_type": "code",
   "execution_count": null,
   "metadata": {},
   "outputs": [],
   "source": [
    "\"\"\"\n",
    "Pipeline Resource Useful links (In order):\n",
    "https://github.com/scikit-learn/scikit-learn/blob/master/sklearn/pipeline.py\n",
    "https://github.com/scikit-learn/scikit-learn/blob/master/sklearn/utils/metaestimators.py\n",
    "https://scikit-learn.org/stable/modules/compose.html#pipeline\n",
    "https://github.com/scikit-learn/scikit-learn/blob/b194674c4/sklearn/utils/validation.py#L164\n",
    "https://scikit-learn.org/stable/modules/model_persistence.html\n",
    "\"\"\""
   ]
  }
 ],
 "metadata": {
  "kernelspec": {
   "display_name": "Python 3",
   "language": "python",
   "name": "python3"
  },
  "language_info": {
   "codemirror_mode": {
    "name": "ipython",
    "version": 3
   },
   "file_extension": ".py",
   "mimetype": "text/x-python",
   "name": "python",
   "nbconvert_exporter": "python",
   "pygments_lexer": "ipython3",
   "version": "3.7.4"
  }
 },
 "nbformat": 4,
 "nbformat_minor": 2
}
